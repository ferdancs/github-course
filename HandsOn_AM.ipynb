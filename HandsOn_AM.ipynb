{
  "nbformat": 4,
  "nbformat_minor": 0,
  "metadata": {
    "colab": {
      "name": "HandsOn_AM.ipynb",
      "provenance": [],
      "authorship_tag": "ABX9TyPY6v0cHx95hIukWPWyFrXD",
      "include_colab_link": true
    },
    "kernelspec": {
      "name": "python3",
      "display_name": "Python 3"
    }
  },
  "cells": [
    {
      "cell_type": "markdown",
      "metadata": {
        "id": "view-in-github",
        "colab_type": "text"
      },
      "source": [
        "<a href=\"https://colab.research.google.com/github/ferdancs/github-course/blob/master/HandsOn_AM.ipynb\" target=\"_parent\"><img src=\"https://colab.research.google.com/assets/colab-badge.svg\" alt=\"Open In Colab\"/></a>"
      ]
    },
    {
      "cell_type": "markdown",
      "metadata": {
        "id": "eS206norYNyx"
      },
      "source": [
        "Cap1\r\n",
        "\r\n",
        "1) Características do SPAM - 4U (for you), credit card, free e amazing - campo do assunto \r\n",
        "\r\n",
        "2) Dado isto classificar como um spam os padrões vistos\r\n",
        "\r\n",
        "3) Repita os passos 1 e 2 até q seja satisfatório\r\n",
        "\r\n",
        "Se há muitas regras ou listas um AM é melhor para:\r\n",
        "1) Simplificar/\r\n",
        "2) Problemas comlexos / \r\n",
        "3) Para ambientes flutuantes, adaptação para novos dados/ \r\n",
        "4) Grandes qtds de dados"
      ]
    },
    {
      "cell_type": "code",
      "metadata": {
        "id": "Al9EwzzqYM6Y"
      },
      "source": [
        "#importando as bib"
      ],
      "execution_count": null,
      "outputs": []
    },
    {
      "cell_type": "code",
      "metadata": {
        "id": "wZXF88EOYHuQ"
      },
      "source": [
        ""
      ],
      "execution_count": null,
      "outputs": []
    }
  ]
}